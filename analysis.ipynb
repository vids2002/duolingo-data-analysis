{
 "cells": [
  {
   "cell_type": "code",
   "execution_count": null,
   "id": "c068790a-2e6e-4cda-81a1-b839ffd0dec9",
   "metadata": {},
   "outputs": [],
   "source": []
  }
 ],
 "metadata": {
  "kernelspec": {
   "display_name": "",
   "name": ""
  },
  "language_info": {
   "name": ""
  }
 },
 "nbformat": 4,
 "nbformat_minor": 5
}
